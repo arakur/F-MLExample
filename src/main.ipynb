{
 "cells": [
  {
   "cell_type": "markdown",
   "metadata": {},
   "source": [
    "# F# によるデータ解析・機械学習のデモ\n",
    "\n",
    "この notebook は kaggle のチュートリアルコンペティションである [Titanic](https://www.kaggle.com/competitions/titanic) のデータを F# (w/ Jupyter Notebook)を用いて解析するデモンストレーションです．\n",
    "\n",
    "以下の構成でファイルが格納されていることを想定しています：\n",
    "\n",
    "- data/ : データファイル．[kaggle からダウンロードする](https://www.kaggle.com/competitions/titanic)．\n",
    "  - train.csv : 学習用データ．\n",
    "  - test.csv : テスト用データ\n",
    "- src/ : スクリプト．\n",
    "  - main.ipynb : このファイル．\n",
    "  - Utils.fsx : ユーティリティ関数を定義したファイル．\n",
    "- submission/ : 提出用ファイル．\n"
   ]
  },
  {
   "cell_type": "markdown",
   "metadata": {},
   "source": [
    "依存パッケージを読み込みます．\n"
   ]
  },
  {
   "cell_type": "code",
   "execution_count": 21,
   "metadata": {
    "dotnet_interactive": {
     "language": "fsharp"
    },
    "polyglot_notebook": {
     "kernelName": "fsharp"
    }
   },
   "outputs": [
    {
     "data": {
      "text/html": [
       "<div><div></div><div></div><div><strong>Installed Packages</strong><ul><li><span>Accord.MachineLearning, 3.8.0</span></li><li><span>Accord.Statistics, 3.8.0</span></li><li><span>Deedle, 3.0.0</span></li><li><span>Plotly.NET.Interactive, 4.2.1</span></li></ul></div></div>"
      ]
     },
     "metadata": {},
     "output_type": "display_data"
    },
    {
     "data": {
      "text/plain": [
       "Loading extensions from `C:\\Users\\User\\.nuget\\packages\\plotly.net.interactive\\4.2.1\\interactive-extensions\\dotnet\\Plotly.NET.Interactive.dll`"
      ]
     },
     "metadata": {},
     "output_type": "display_data"
    }
   ],
   "source": [
    "#r \"nuget: Deedle\"\n",
    "#r \"nuget: Plotly.NET.Interactive\"\n",
    "#r \"nuget: Accord.MachineLearning\"\n",
    "#r \"nuget: Accord.Statistics\""
   ]
  },
  {
   "cell_type": "markdown",
   "metadata": {},
   "source": [
    "## Deedle ... データフレームライブラリ\n",
    "\n",
    "最初に，データフレームライブラリ [Deedle](https://bluemountaincapital.github.io/Deedle/) を用いてタイタニック号の乗客データを読み込みます．\n",
    "\n",
    "### データの読み込み\n",
    "\n",
    "`Deedle.Frame` はデータフレームを格納する型です．配置したトレーニングファイル，テストファイルを `Frame.ReadCsv` 関数で読み込み，`Frame.indexRowsInt` 関数で `PassengerId` を行インデックスに設定します．\n"
   ]
  },
  {
   "cell_type": "code",
   "execution_count": 22,
   "metadata": {
    "dotnet_interactive": {
     "language": "fsharp"
    }
   },
   "outputs": [],
   "source": [
    "open Deedle\n",
    "\n",
    "let train =\n",
    "    Frame.ReadCsv(__SOURCE_DIRECTORY__ + \"/../data/titanic/train.csv\") // トレーニングデータを読み込み，\n",
    "    |> Frame.indexRowsInt \"PassengerId\" // PassengerId を行名に設定する．\n",
    "\n",
    "let test =\n",
    "    Frame.ReadCsv(__SOURCE_DIRECTORY__ + \"/../data/titanic/test.csv\") // テストデータを読み込み，\n",
    "    |> Frame.indexRowsInt \"PassengerId\" // PassengerId を行名に設定する．\n",
    "\n",
    "// テストデータの正答率をローカルで調べたい場合は代わりに以下のコードで `train` を分割して読み込む．\n",
    "\n",
    "// let titanic =\n",
    "//     Frame.ReadCsv(__SOURCE_DIRECTORY__ + \"/../data/titanic/train.csv\") |> Frame.indexRowsInt \"PassengerId\"\n",
    "\n",
    "// let train = titanic.GetRowsAt([|0..790|])\n",
    "// let test = titanic.GetRowsAt([|791..890|])"
   ]
  },
  {
   "cell_type": "code",
   "execution_count": 23,
   "metadata": {
    "dotnet_interactive": {
     "language": "fsharp"
    }
   },
   "outputs": [
    {
     "name": "stdout",
     "output_type": "stream",
     "text": [
      "       Survived Pclass Name                                                Sex    Age       SibSp Parch Ticket           Fare    Cabin Embarked \r\n",
      "1   -> False    3      Braund, Mr. Owen Harris                             male   22        1     0     A/5 21171        7.25          S        \r\n",
      "2   -> True     1      Cumings, Mrs. John Bradley (Florence Briggs Thayer) female 38        1     0     PC 17599         71.2833 C85   C        \r\n",
      "3   -> True     3      Heikkinen, Miss. Laina                              female 26        0     0     STON/O2. 3101282 7.925         S        \r\n",
      "4   -> True     1      Futrelle, Mrs. Jacques Heath (Lily May Peel)        female 35        1     0     113803           53.1    C123  S        \r\n",
      "5   -> False    3      Allen, Mr. William Henry                            male   35        0     0     373450           8.05          S        \r\n",
      "6   -> False    3      Moran, Mr. James                                    male   <missing> 0     0     330877           8.4583        Q        \r\n",
      "7   -> False    1      McCarthy, Mr. Timothy J                             male   54        0     0     17463            51.8625 E46   S        \r\n",
      "8   -> False    3      Palsson, Master. Gosta Leonard                      male   2         3     1     349909           21.075        S        \r\n",
      "9   -> True     3      Johnson, Mrs. Oscar W (Elisabeth Vilhelmina Berg)   female 27        0     2     347742           11.1333       S        \r\n",
      "10  -> True     2      Nasser, Mrs. Nicholas (Adele Achem)                 female 14        1     0     237736           30.0708       C        \r\n",
      "11  -> True     3      Sandstrom, Miss. Marguerite Rut                     female 4         1     1     PP 9549          16.7    G6    S        \r\n",
      "12  -> True     1      Bonnell, Miss. Elizabeth                            female 58        0     0     113783           26.55   C103  S        \r\n",
      "13  -> False    3      Saundercock, Mr. William Henry                      male   20        0     0     A/5. 2151        8.05          S        \r\n",
      "14  -> False    3      Andersson, Mr. Anders Johan                         male   39        1     5     347082           31.275        S        \r\n",
      "15  -> False    3      Vestrom, Miss. Hulda Amanda Adolfina                female 14        0     0     350406           7.8542        S        \r\n",
      ":      ...      ...    ...                                                 ...    ...       ...   ...   ...              ...     ...   ...      \r\n",
      "877 -> False    3      Gustafsson, Mr. Alfred Ossian                       male   20        0     0     7534             9.8458        S        \r\n",
      "878 -> False    3      Petroff, Mr. Nedelio                                male   19        0     0     349212           7.8958        S        \r\n",
      "879 -> False    3      Laleff, Mr. Kristo                                  male   <missing> 0     0     349217           7.8958        S        \r\n",
      "880 -> True     1      Potter, Mrs. Thomas Jr (Lily Alexenia Wilson)       female 56        0     1     11767            83.1583 C50   C        \r\n",
      "881 -> True     2      Shelley, Mrs. William (Imanita Parrish Hall)        female 25        0     1     230433           26            S        \r\n",
      "882 -> False    3      Markun, Mr. Johann                                  male   33        0     0     349257           7.8958        S        \r\n",
      "883 -> False    3      Dahlberg, Miss. Gerda Ulrika                        female 22        0     0     7552             10.5167       S        \r\n",
      "884 -> False    2      Banfield, Mr. Frederick James                       male   28        0     0     C.A./SOTON 34068 10.5          S        \r\n",
      "885 -> False    3      Sutehall, Mr. Henry Jr                              male   25        0     0     SOTON/OQ 392076  7.05          S        \r\n",
      "886 -> False    3      Rice, Mrs. William (Margaret Norton)                female 39        0     5     382652           29.125        Q        \r\n",
      "887 -> False    2      Montvila, Rev. Juozas                               male   27        0     0     211536           13            S        \r\n",
      "888 -> True     1      Graham, Miss. Margaret Edith                        female 19        0     0     112053           30      B42   S        \r\n",
      "889 -> False    3      Johnston, Miss. Catherine Helen \"Carrie\"            female <missing> 1     2     W./C. 6607       23.45         S        \r\n",
      "890 -> True     1      Behr, Mr. Karl Howell                               male   26        0     0     111369           30      C148  C        \r\n",
      "891 -> False    3      Dooley, Mr. Patrick                                 male   32        0     0     370376           7.75          Q        \r\n",
      "\r\n"
     ]
    }
   ],
   "source": [
    "// トレーニングデータを表示する．\n",
    "train.Print()"
   ]
  },
  {
   "cell_type": "code",
   "execution_count": 24,
   "metadata": {
    "dotnet_interactive": {
     "language": "fsharp"
    }
   },
   "outputs": [
    {
     "name": "stdout",
     "output_type": "stream",
     "text": [
      "        Pclass Name                                                    Sex    Age       SibSp Parch Ticket             Fare    Cabin Embarked \r\n",
      "892  -> 3      Kelly, Mr. James                                        male   34.5      0     0     330911             7.8292        Q        \r\n",
      "893  -> 3      Wilkes, Mrs. James (Ellen Needs)                        female 47        1     0     363272             7             S        \r\n",
      "894  -> 2      Myles, Mr. Thomas Francis                               male   62        0     0     240276             9.6875        Q        \r\n",
      "895  -> 3      Wirz, Mr. Albert                                        male   27        0     0     315154             8.6625        S        \r\n",
      "896  -> 3      Hirvonen, Mrs. Alexander (Helga E Lindqvist)            female 22        1     1     3101298            12.2875       S        \r\n",
      "897  -> 3      Svensson, Mr. Johan Cervin                              male   14        0     0     7538               9.225         S        \r\n",
      "898  -> 3      Connolly, Miss. Kate                                    female 30        0     0     330972             7.6292        Q        \r\n",
      "899  -> 2      Caldwell, Mr. Albert Francis                            male   26        1     1     248738             29            S        \r\n",
      "900  -> 3      Abrahim, Mrs. Joseph (Sophie Halaut Easu)               female 18        0     0     2657               7.2292        C        \r\n",
      "901  -> 3      Davies, Mr. John Samuel                                 male   21        2     0     A/4 48871          24.15         S        \r\n",
      "902  -> 3      Ilieff, Mr. Ylio                                        male   <missing> 0     0     349220             7.8958        S        \r\n",
      "903  -> 1      Jones, Mr. Charles Cresson                              male   46        0     0     694                26            S        \r\n",
      "904  -> 1      Snyder, Mrs. John Pillsbury (Nelle Stevenson)           female 23        1     0     21228              82.2667 B45   S        \r\n",
      "905  -> 2      Howard, Mr. Benjamin                                    male   63        1     0     24065              26            S        \r\n",
      "906  -> 1      Chaffee, Mrs. Herbert Fuller (Carrie Constance Toogood) female 47        1     0     W.E.P. 5734        61.175  E31   S        \r\n",
      ":       ...    ...                                                     ...    ...       ...   ...   ...                ...     ...   ...      \r\n",
      "1295 -> 1      Carrau, Mr. Jose Pedro                                  male   17        0     0     113059             47.1          S        \r\n",
      "1296 -> 1      Frauenthal, Mr. Isaac Gerald                            male   43        1     0     17765              27.7208 D40   C        \r\n",
      "1297 -> 2      Nourney, Mr. Alfred (Baron von Drachstedt\")\"            male   20        0     0     SC/PARIS 2166      13.8625 D38   C        \r\n",
      "1298 -> 2      Ware, Mr. William Jeffery                               male   23        1     0     28666              10.5          S        \r\n",
      "1299 -> 1      Widener, Mr. George Dunton                              male   50        1     1     113503             211.5   C80   C        \r\n",
      "1300 -> 3      Riordan, Miss. Johanna Hannah\"\"                         female <missing> 0     0     334915             7.7208        Q        \r\n",
      "1301 -> 3      Peacock, Miss. Treasteall                               female 3         1     1     SOTON/O.Q. 3101315 13.775        S        \r\n",
      "1302 -> 3      Naughton, Miss. Hannah                                  female <missing> 0     0     365237             7.75          Q        \r\n",
      "1303 -> 1      Minahan, Mrs. William Edward (Lillian E Thorpe)         female 37        1     0     19928              90      C78   Q        \r\n",
      "1304 -> 3      Henriksson, Miss. Jenny Lovisa                          female 28        0     0     347086             7.775         S        \r\n",
      "1305 -> 3      Spector, Mr. Woolf                                      male   <missing> 0     0     A.5. 3236          8.05          S        \r\n",
      "1306 -> 1      Oliva y Ocana, Dona. Fermina                            female 39        0     0     PC 17758           108.9   C105  C        \r\n",
      "1307 -> 3      Saether, Mr. Simon Sivertsen                            male   38.5      0     0     SOTON/O.Q. 3101262 7.25          S        \r\n",
      "1308 -> 3      Ware, Mr. Frederick                                     male   <missing> 0     0     359309             8.05          S        \r\n",
      "1309 -> 3      Peter, Master. Michael J                                male   <missing> 1     1     2668               22.3583       C        \r\n",
      "\r\n"
     ]
    }
   ],
   "source": [
    "// テストデータを表示する．\n",
    "test.Print()"
   ]
  },
  {
   "cell_type": "markdown",
   "metadata": {},
   "source": [
    "今回のデータフレームは `Frame<int, string>` という型を持ちます．これは行のインデックスが `int` 型，列のインデックスが `string` 型であることを意味します．\n"
   ]
  },
  {
   "cell_type": "markdown",
   "metadata": {},
   "source": [
    "### 可視化\n",
    "\n",
    "Plotly.NET ライブラリを用いてデータを可視化します．\n",
    "ノートブックで用いる場合には `Plotly.NET.Interactive` を読み込んで使用します．\n"
   ]
  },
  {
   "cell_type": "code",
   "execution_count": 32,
   "metadata": {
    "dotnet_interactive": {
     "language": "fsharp"
    },
    "polyglot_notebook": {
     "kernelName": "fsharp"
    }
   },
   "outputs": [
    {
     "data": {
      "text/html": [
       "<div><div id=\"cac595b5-2d91-4626-b192-9e90cda8ad0f\"><!-- Plotly chart will be drawn inside this DIV --></div><script type=\"text/javascript\">\n",
       "var renderPlotly_cac595b52d914626b1929e90cda8ad0f = function() {\n",
       "    var fsharpPlotlyRequire = requirejs.config({context:'fsharp-plotly',paths:{plotly:'https://cdn.plot.ly/plotly-2.21.0.min'}}) || require;\n",
       "    fsharpPlotlyRequire(['plotly'], function(Plotly) {\n",
       "        var data = [{\"type\":\"histogram\",\"x\":[22.0,38.0,26.0,35.0,35.0,54.0,2.0,27.0,14.0,4.0,58.0,20.0,39.0,14.0,55.0,2.0,31.0,35.0,34.0,15.0,28.0,8.0,38.0,19.0,40.0,66.0,28.0,42.0,21.0,18.0,14.0,40.0,27.0,3.0,19.0,18.0,7.0,21.0,49.0,29.0,65.0,21.0,28.5,5.0,11.0,22.0,38.0,45.0,4.0,29.0,19.0,17.0,26.0,32.0,16.0,21.0,26.0,32.0,25.0,0.83,30.0,22.0,29.0,28.0,17.0,33.0,16.0,23.0,24.0,29.0,20.0,46.0,26.0,59.0,71.0,23.0,34.0,34.0,28.0,21.0,33.0,37.0,28.0,21.0,38.0,47.0,14.5,22.0,20.0,17.0,21.0,70.5,29.0,24.0,2.0,21.0,32.5,32.5,54.0,12.0,24.0,45.0,33.0,20.0,47.0,29.0,25.0,23.0,19.0,37.0,16.0,24.0,22.0,24.0,19.0,18.0,19.0,27.0,9.0,36.5,42.0,51.0,22.0,55.5,40.5,51.0,16.0,30.0,44.0,40.0,26.0,17.0,1.0,9.0,45.0,28.0,61.0,4.0,1.0,21.0,56.0,18.0,50.0,30.0,36.0,9.0,1.0,4.0,45.0,40.0,36.0,32.0,19.0,19.0,3.0,44.0,58.0,42.0,24.0,28.0,34.0,45.5,18.0,2.0,32.0,26.0,16.0,40.0,24.0,35.0,22.0,30.0,31.0,27.0,42.0,32.0,30.0,16.0,27.0,51.0,38.0,22.0,19.0,20.5,18.0,35.0,29.0,59.0,5.0,24.0,44.0,8.0,19.0,33.0,29.0,22.0,30.0,44.0,25.0,24.0,37.0,54.0,29.0,62.0,30.0,41.0,29.0,30.0,35.0,50.0,3.0,52.0,40.0,36.0,16.0,25.0,58.0,35.0,25.0,41.0,37.0,63.0,45.0,7.0,35.0,65.0,28.0,16.0,19.0,33.0,30.0,22.0,42.0,22.0,26.0,19.0,36.0,24.0,24.0,23.5,2.0,50.0,19.0,0.92,17.0,30.0,30.0,24.0,18.0,26.0,28.0,43.0,26.0,24.0,54.0,31.0,40.0,22.0,27.0,30.0,22.0,36.0,61.0,36.0,31.0,16.0,45.5,38.0,16.0,29.0,41.0,45.0,45.0,2.0,24.0,28.0,25.0,36.0,24.0,40.0,3.0,42.0,23.0,15.0,25.0,28.0,22.0,38.0,40.0,29.0,45.0,35.0,30.0,60.0,24.0,25.0,18.0,19.0,22.0,3.0,22.0,27.0,20.0,19.0,42.0,1.0,32.0,35.0,18.0,1.0,36.0,17.0,36.0,21.0,28.0,23.0,24.0,22.0,31.0,46.0,23.0,28.0,39.0,26.0,21.0,28.0,20.0,34.0,51.0,3.0,21.0,33.0,44.0,34.0,18.0,30.0,10.0,21.0,29.0,28.0,18.0,28.0,19.0,32.0,28.0,42.0,17.0,50.0,14.0,21.0,24.0,64.0,31.0,45.0,20.0,25.0,28.0,4.0,13.0,34.0,5.0,52.0,36.0,30.0,49.0,29.0,65.0,50.0,48.0,34.0,47.0,48.0,38.0,56.0,0.75,38.0,33.0,23.0,22.0,34.0,29.0,22.0,2.0,9.0,50.0,63.0,25.0,35.0,58.0,30.0,9.0,21.0,55.0,71.0,21.0,54.0,25.0,24.0,17.0,21.0,37.0,16.0,18.0,33.0,28.0,26.0,29.0,36.0,54.0,24.0,47.0,34.0,36.0,32.0,30.0,22.0,44.0,40.5,50.0,39.0,23.0,2.0,17.0,30.0,7.0,45.0,30.0,22.0,36.0,9.0,11.0,32.0,50.0,64.0,19.0,33.0,8.0,17.0,27.0,22.0,22.0,62.0,48.0,39.0,36.0,40.0,28.0,24.0,19.0,29.0,32.0,62.0,53.0,36.0,16.0,19.0,34.0,39.0,32.0,25.0,39.0,54.0,36.0,18.0,47.0,60.0,22.0,35.0,52.0,47.0,37.0,36.0,49.0,49.0,24.0,44.0,35.0,36.0,30.0,27.0,22.0,40.0,39.0,35.0,24.0,34.0,26.0,4.0,26.0,27.0,42.0,20.0,21.0,21.0,61.0,57.0,21.0,26.0,80.0,51.0,32.0,9.0,28.0,32.0,31.0,41.0,20.0,24.0,2.0,0.75,48.0,19.0,56.0,23.0,18.0,21.0,18.0,24.0,32.0,23.0,58.0,50.0,40.0,47.0,36.0,20.0,32.0,25.0,43.0,40.0,31.0,70.0,31.0,18.0,24.5,18.0,43.0,36.0,27.0,20.0,14.0,60.0,25.0,14.0,19.0,18.0,15.0,31.0,4.0,25.0,60.0,52.0,44.0,49.0,42.0,18.0,35.0,18.0,25.0,26.0,39.0,45.0,42.0,22.0,24.0,48.0,29.0,52.0,19.0,38.0,27.0,33.0,6.0,17.0,34.0,50.0,27.0,20.0,30.0,25.0,25.0,29.0,11.0,23.0,23.0,28.5,48.0,35.0,36.0,21.0,24.0,31.0,70.0,16.0,30.0,19.0,31.0,4.0,6.0,33.0,23.0,48.0,0.67,28.0,18.0,34.0,33.0,41.0,20.0,36.0,16.0,51.0,30.5,32.0,24.0,48.0,57.0,54.0,18.0,5.0,43.0,13.0,17.0,29.0,25.0,25.0,18.0,8.0,1.0,46.0,16.0,25.0,39.0,49.0,31.0,30.0,30.0,34.0,31.0,11.0,0.42,27.0,31.0,39.0,18.0,39.0,33.0,26.0,39.0,35.0,6.0,30.5,23.0,31.0,43.0,10.0,52.0,27.0,38.0,27.0,2.0,1.0,62.0,15.0,0.83,23.0,18.0,39.0,21.0,32.0,20.0,16.0,30.0,34.5,17.0,42.0,35.0,28.0,4.0,74.0,9.0,16.0,44.0,18.0,45.0,51.0,24.0,41.0,21.0,48.0,24.0,42.0,27.0,31.0,4.0,26.0,47.0,33.0,47.0,28.0,15.0,20.0,19.0,56.0,25.0,33.0,22.0,28.0,25.0,39.0,27.0,19.0,26.0,32.0],\"marker\":{\"pattern\":{}}}];\n",
       "        var layout = {\"width\":600,\"height\":600,\"template\":{\"layout\":{\"title\":{\"x\":0.05},\"font\":{\"color\":\"rgba(42, 63, 95, 1.0)\"},\"paper_bgcolor\":\"rgba(255, 255, 255, 1.0)\",\"plot_bgcolor\":\"rgba(229, 236, 246, 1.0)\",\"autotypenumbers\":\"strict\",\"colorscale\":{\"diverging\":[[0.0,\"#8e0152\"],[0.1,\"#c51b7d\"],[0.2,\"#de77ae\"],[0.3,\"#f1b6da\"],[0.4,\"#fde0ef\"],[0.5,\"#f7f7f7\"],[0.6,\"#e6f5d0\"],[0.7,\"#b8e186\"],[0.8,\"#7fbc41\"],[0.9,\"#4d9221\"],[1.0,\"#276419\"]],\"sequential\":[[0.0,\"#0d0887\"],[0.1111111111111111,\"#46039f\"],[0.2222222222222222,\"#7201a8\"],[0.3333333333333333,\"#9c179e\"],[0.4444444444444444,\"#bd3786\"],[0.5555555555555556,\"#d8576b\"],[0.6666666666666666,\"#ed7953\"],[0.7777777777777778,\"#fb9f3a\"],[0.8888888888888888,\"#fdca26\"],[1.0,\"#f0f921\"]],\"sequentialminus\":[[0.0,\"#0d0887\"],[0.1111111111111111,\"#46039f\"],[0.2222222222222222,\"#7201a8\"],[0.3333333333333333,\"#9c179e\"],[0.4444444444444444,\"#bd3786\"],[0.5555555555555556,\"#d8576b\"],[0.6666666666666666,\"#ed7953\"],[0.7777777777777778,\"#fb9f3a\"],[0.8888888888888888,\"#fdca26\"],[1.0,\"#f0f921\"]]},\"hovermode\":\"closest\",\"hoverlabel\":{\"align\":\"left\"},\"coloraxis\":{\"colorbar\":{\"outlinewidth\":0.0,\"ticks\":\"\"}},\"geo\":{\"showland\":true,\"landcolor\":\"rgba(229, 236, 246, 1.0)\",\"showlakes\":true,\"lakecolor\":\"rgba(255, 255, 255, 1.0)\",\"subunitcolor\":\"rgba(255, 255, 255, 1.0)\",\"bgcolor\":\"rgba(255, 255, 255, 1.0)\"},\"mapbox\":{\"style\":\"light\"},\"polar\":{\"bgcolor\":\"rgba(229, 236, 246, 1.0)\",\"radialaxis\":{\"linecolor\":\"rgba(255, 255, 255, 1.0)\",\"gridcolor\":\"rgba(255, 255, 255, 1.0)\",\"ticks\":\"\"},\"angularaxis\":{\"linecolor\":\"rgba(255, 255, 255, 1.0)\",\"gridcolor\":\"rgba(255, 255, 255, 1.0)\",\"ticks\":\"\"}},\"scene\":{\"xaxis\":{\"ticks\":\"\",\"linecolor\":\"rgba(255, 255, 255, 1.0)\",\"gridcolor\":\"rgba(255, 255, 255, 1.0)\",\"gridwidth\":2.0,\"zerolinecolor\":\"rgba(255, 255, 255, 1.0)\",\"backgroundcolor\":\"rgba(229, 236, 246, 1.0)\",\"showbackground\":true},\"yaxis\":{\"ticks\":\"\",\"linecolor\":\"rgba(255, 255, 255, 1.0)\",\"gridcolor\":\"rgba(255, 255, 255, 1.0)\",\"gridwidth\":2.0,\"zerolinecolor\":\"rgba(255, 255, 255, 1.0)\",\"backgroundcolor\":\"rgba(229, 236, 246, 1.0)\",\"showbackground\":true},\"zaxis\":{\"ticks\":\"\",\"linecolor\":\"rgba(255, 255, 255, 1.0)\",\"gridcolor\":\"rgba(255, 255, 255, 1.0)\",\"gridwidth\":2.0,\"zerolinecolor\":\"rgba(255, 255, 255, 1.0)\",\"backgroundcolor\":\"rgba(229, 236, 246, 1.0)\",\"showbackground\":true}},\"ternary\":{\"aaxis\":{\"ticks\":\"\",\"linecolor\":\"rgba(255, 255, 255, 1.0)\",\"gridcolor\":\"rgba(255, 255, 255, 1.0)\"},\"baxis\":{\"ticks\":\"\",\"linecolor\":\"rgba(255, 255, 255, 1.0)\",\"gridcolor\":\"rgba(255, 255, 255, 1.0)\"},\"caxis\":{\"ticks\":\"\",\"linecolor\":\"rgba(255, 255, 255, 1.0)\",\"gridcolor\":\"rgba(255, 255, 255, 1.0)\"},\"bgcolor\":\"rgba(229, 236, 246, 1.0)\"},\"xaxis\":{\"title\":{\"standoff\":15},\"ticks\":\"\",\"automargin\":\"height+width+left+right+top+bottom\",\"linecolor\":\"rgba(255, 255, 255, 1.0)\",\"gridcolor\":\"rgba(255, 255, 255, 1.0)\",\"zerolinecolor\":\"rgba(255, 255, 255, 1.0)\",\"zerolinewidth\":2.0},\"yaxis\":{\"title\":{\"standoff\":15},\"ticks\":\"\",\"automargin\":\"height+width+left+right+top+bottom\",\"linecolor\":\"rgba(255, 255, 255, 1.0)\",\"gridcolor\":\"rgba(255, 255, 255, 1.0)\",\"zerolinecolor\":\"rgba(255, 255, 255, 1.0)\",\"zerolinewidth\":2.0},\"annotationdefaults\":{\"arrowcolor\":\"#2a3f5f\",\"arrowhead\":0,\"arrowwidth\":1},\"shapedefaults\":{\"line\":{\"color\":\"rgba(42, 63, 95, 1.0)\"}},\"colorway\":[\"rgba(99, 110, 250, 1.0)\",\"rgba(239, 85, 59, 1.0)\",\"rgba(0, 204, 150, 1.0)\",\"rgba(171, 99, 250, 1.0)\",\"rgba(255, 161, 90, 1.0)\",\"rgba(25, 211, 243, 1.0)\",\"rgba(255, 102, 146, 1.0)\",\"rgba(182, 232, 128, 1.0)\",\"rgba(255, 151, 255, 1.0)\",\"rgba(254, 203, 82, 1.0)\"]},\"data\":{\"bar\":[{\"marker\":{\"line\":{\"color\":\"rgba(229, 236, 246, 1.0)\",\"width\":0.5},\"pattern\":{\"fillmode\":\"overlay\",\"size\":10,\"solidity\":0.2}},\"error_x\":{\"color\":\"rgba(42, 63, 95, 1.0)\"},\"error_y\":{\"color\":\"rgba(42, 63, 95, 1.0)\"}}],\"barpolar\":[{\"marker\":{\"line\":{\"color\":\"rgba(229, 236, 246, 1.0)\",\"width\":0.5},\"pattern\":{\"fillmode\":\"overlay\",\"size\":10,\"solidity\":0.2}}}],\"carpet\":[{\"aaxis\":{\"linecolor\":\"rgba(255, 255, 255, 1.0)\",\"gridcolor\":\"rgba(255, 255, 255, 1.0)\",\"endlinecolor\":\"rgba(42, 63, 95, 1.0)\",\"minorgridcolor\":\"rgba(255, 255, 255, 1.0)\",\"startlinecolor\":\"rgba(42, 63, 95, 1.0)\"},\"baxis\":{\"linecolor\":\"rgba(255, 255, 255, 1.0)\",\"gridcolor\":\"rgba(255, 255, 255, 1.0)\",\"endlinecolor\":\"rgba(42, 63, 95, 1.0)\",\"minorgridcolor\":\"rgba(255, 255, 255, 1.0)\",\"startlinecolor\":\"rgba(42, 63, 95, 1.0)\"}}],\"choropleth\":[{\"colorbar\":{\"outlinewidth\":0.0,\"ticks\":\"\"},\"colorscale\":[[0.0,\"#0d0887\"],[0.1111111111111111,\"#46039f\"],[0.2222222222222222,\"#7201a8\"],[0.3333333333333333,\"#9c179e\"],[0.4444444444444444,\"#bd3786\"],[0.5555555555555556,\"#d8576b\"],[0.6666666666666666,\"#ed7953\"],[0.7777777777777778,\"#fb9f3a\"],[0.8888888888888888,\"#fdca26\"],[1.0,\"#f0f921\"]]}],\"contour\":[{\"colorbar\":{\"outlinewidth\":0.0,\"ticks\":\"\"},\"colorscale\":[[0.0,\"#0d0887\"],[0.1111111111111111,\"#46039f\"],[0.2222222222222222,\"#7201a8\"],[0.3333333333333333,\"#9c179e\"],[0.4444444444444444,\"#bd3786\"],[0.5555555555555556,\"#d8576b\"],[0.6666666666666666,\"#ed7953\"],[0.7777777777777778,\"#fb9f3a\"],[0.8888888888888888,\"#fdca26\"],[1.0,\"#f0f921\"]]}],\"contourcarpet\":[{\"colorbar\":{\"outlinewidth\":0.0,\"ticks\":\"\"}}],\"heatmap\":[{\"colorbar\":{\"outlinewidth\":0.0,\"ticks\":\"\"},\"colorscale\":[[0.0,\"#0d0887\"],[0.1111111111111111,\"#46039f\"],[0.2222222222222222,\"#7201a8\"],[0.3333333333333333,\"#9c179e\"],[0.4444444444444444,\"#bd3786\"],[0.5555555555555556,\"#d8576b\"],[0.6666666666666666,\"#ed7953\"],[0.7777777777777778,\"#fb9f3a\"],[0.8888888888888888,\"#fdca26\"],[1.0,\"#f0f921\"]]}],\"heatmapgl\":[{\"colorbar\":{\"outlinewidth\":0.0,\"ticks\":\"\"},\"colorscale\":[[0.0,\"#0d0887\"],[0.1111111111111111,\"#46039f\"],[0.2222222222222222,\"#7201a8\"],[0.3333333333333333,\"#9c179e\"],[0.4444444444444444,\"#bd3786\"],[0.5555555555555556,\"#d8576b\"],[0.6666666666666666,\"#ed7953\"],[0.7777777777777778,\"#fb9f3a\"],[0.8888888888888888,\"#fdca26\"],[1.0,\"#f0f921\"]]}],\"histogram\":[{\"marker\":{\"pattern\":{\"fillmode\":\"overlay\",\"size\":10,\"solidity\":0.2}}}],\"histogram2d\":[{\"colorbar\":{\"outlinewidth\":0.0,\"ticks\":\"\"},\"colorscale\":[[0.0,\"#0d0887\"],[0.1111111111111111,\"#46039f\"],[0.2222222222222222,\"#7201a8\"],[0.3333333333333333,\"#9c179e\"],[0.4444444444444444,\"#bd3786\"],[0.5555555555555556,\"#d8576b\"],[0.6666666666666666,\"#ed7953\"],[0.7777777777777778,\"#fb9f3a\"],[0.8888888888888888,\"#fdca26\"],[1.0,\"#f0f921\"]]}],\"histogram2dcontour\":[{\"colorbar\":{\"outlinewidth\":0.0,\"ticks\":\"\"},\"colorscale\":[[0.0,\"#0d0887\"],[0.1111111111111111,\"#46039f\"],[0.2222222222222222,\"#7201a8\"],[0.3333333333333333,\"#9c179e\"],[0.4444444444444444,\"#bd3786\"],[0.5555555555555556,\"#d8576b\"],[0.6666666666666666,\"#ed7953\"],[0.7777777777777778,\"#fb9f3a\"],[0.8888888888888888,\"#fdca26\"],[1.0,\"#f0f921\"]]}],\"mesh3d\":[{\"colorbar\":{\"outlinewidth\":0.0,\"ticks\":\"\"}}],\"parcoords\":[{\"line\":{\"colorbar\":{\"outlinewidth\":0.0,\"ticks\":\"\"}}}],\"pie\":[{\"automargin\":true}],\"scatter\":[{\"marker\":{\"colorbar\":{\"outlinewidth\":0.0,\"ticks\":\"\"}}}],\"scatter3d\":[{\"marker\":{\"colorbar\":{\"outlinewidth\":0.0,\"ticks\":\"\"}},\"line\":{\"colorbar\":{\"outlinewidth\":0.0,\"ticks\":\"\"}}}],\"scattercarpet\":[{\"marker\":{\"colorbar\":{\"outlinewidth\":0.0,\"ticks\":\"\"}}}],\"scattergeo\":[{\"marker\":{\"colorbar\":{\"outlinewidth\":0.0,\"ticks\":\"\"}}}],\"scattergl\":[{\"marker\":{\"colorbar\":{\"outlinewidth\":0.0,\"ticks\":\"\"}}}],\"scattermapbox\":[{\"marker\":{\"colorbar\":{\"outlinewidth\":0.0,\"ticks\":\"\"}}}],\"scatterpolar\":[{\"marker\":{\"colorbar\":{\"outlinewidth\":0.0,\"ticks\":\"\"}}}],\"scatterpolargl\":[{\"marker\":{\"colorbar\":{\"outlinewidth\":0.0,\"ticks\":\"\"}}}],\"scatterternary\":[{\"marker\":{\"colorbar\":{\"outlinewidth\":0.0,\"ticks\":\"\"}}}],\"surface\":[{\"colorbar\":{\"outlinewidth\":0.0,\"ticks\":\"\"},\"colorscale\":[[0.0,\"#0d0887\"],[0.1111111111111111,\"#46039f\"],[0.2222222222222222,\"#7201a8\"],[0.3333333333333333,\"#9c179e\"],[0.4444444444444444,\"#bd3786\"],[0.5555555555555556,\"#d8576b\"],[0.6666666666666666,\"#ed7953\"],[0.7777777777777778,\"#fb9f3a\"],[0.8888888888888888,\"#fdca26\"],[1.0,\"#f0f921\"]]}],\"table\":[{\"cells\":{\"fill\":{\"color\":\"rgba(235, 240, 248, 1.0)\"},\"line\":{\"color\":\"rgba(255, 255, 255, 1.0)\"}},\"header\":{\"fill\":{\"color\":\"rgba(200, 212, 227, 1.0)\"},\"line\":{\"color\":\"rgba(255, 255, 255, 1.0)\"}}}]}}};\n",
       "        var config = {\"responsive\":true};\n",
       "        Plotly.newPlot('cac595b5-2d91-4626-b192-9e90cda8ad0f', data, layout, config);\n",
       "    });\n",
       "};\n",
       "if ((typeof(requirejs) !==  typeof(Function)) || (typeof(requirejs.config) !== typeof(Function))) {\n",
       "    var script = document.createElement(\"script\");\n",
       "    script.setAttribute(\"charset\", \"utf-8\");\n",
       "    script.setAttribute(\"src\", \"https://cdnjs.cloudflare.com/ajax/libs/require.js/2.3.6/require.min.js\");\n",
       "    script.onload = function(){\n",
       "        renderPlotly_cac595b52d914626b1929e90cda8ad0f();\n",
       "    };\n",
       "    document.getElementsByTagName(\"head\")[0].appendChild(script);\n",
       "}\n",
       "else {\n",
       "    renderPlotly_cac595b52d914626b1929e90cda8ad0f();\n",
       "}\n",
       "</script></div>"
      ]
     },
     "metadata": {},
     "output_type": "display_data"
    }
   ],
   "source": [
    "open Plotly.NET\n",
    "\n",
    "let x: float seq = train.GetColumn \"Age\" |> Series.values\n",
    "\n",
    "Chart.Histogram(X = x)\n"
   ]
  },
  {
   "cell_type": "markdown",
   "metadata": {},
   "source": [
    "### データクレンジング・データの前処理\n",
    "\n",
    "上で表示した通り，データフレームのいくつかの列には欠損値が含まれています．データ解析の前にこれらを埋める必要があります．また，整数や boolean，文字列であるような列の値を変換し，浮動小数点型のみを含むデータフレームに変換します．\n",
    "\n",
    "Deedle のデータフレームでは，欠損したセルの値をピンポイントで読み込もうとしたタイミングで例外が発生します．また，`Series` を読み込む関数，たとえば `Series.values` では欠損値はスキップされ，値の個数が減少した列が返される点に注意が必要です．欠損値を `None`，欠損値でない値を `Some` として取り出すには，たとえば `Series.valuesAll` のように末尾に `All` を付けた関数を用います．\n",
    "\n",
    "まずは欠損値の数を表示する関数 `printCleansingInfo` を作成しましょう．なお，データ上は `Embarked` や `Cabin` なども欠損値を含みますが，文字列型の列については欠損値は空文字列として取り込まれているので，これらは欠損値として扱わないことにします．\n"
   ]
  },
  {
   "cell_type": "code",
   "execution_count": 14,
   "metadata": {
    "dotnet_interactive": {
     "language": "fsharp"
    }
   },
   "outputs": [
    {
     "name": "stdout",
     "output_type": "stream",
     "text": [
      "Train data:\n",
      "Column \"Age\" has 177 missing values\n",
      "Test data:\n",
      "Column \"Age\" has 86 missing values\n",
      "Column \"Fare\" has 1 missing values\n"
     ]
    }
   ],
   "source": [
    "let printCleansingInfo (frame: Frame<'R, 'C>) =\n",
    "    let missingValueCounts =\n",
    "        frame.Columns\n",
    "        |> Series.observations\n",
    "        |> Seq.map (\n",
    "            fun (key, col) ->\n",
    "                let length = col.ValuesAll |> Seq.length // 欠損値も含めた列の長さ．\n",
    "                let valueCount = col.ValueCount // 欠損値を除いた列の長さ．\n",
    "                let missingCount = length - valueCount // 欠損値の数．\n",
    "                key, missingCount\n",
    "        )\n",
    "        |> Seq.filter (fun (key, missingCount) -> missingCount > 0)\n",
    "    \n",
    "    missingValueCounts\n",
    "    |> Seq.iter (fun (key, count) -> printfn \"Column %A has %d missing values\" key count)\n",
    "\n",
    "    if missingValueCounts |> Seq.isEmpty then\n",
    "        printfn \"No missing values\"\n",
    "\n",
    "printfn \"Train data:\"\n",
    "printCleansingInfo train\n",
    "\n",
    "printfn \"Test data:\"\n",
    "printCleansingInfo test"
   ]
  },
  {
   "cell_type": "markdown",
   "metadata": {},
   "source": [
    "これらの欠損値がなくなり，すべてのセルの値が `float` 型になるよう，データフレームを変換します．\n",
    "以下では `Utils.fsx` 内で定義した関数を用いて各列を変換していきます．\n"
   ]
  },
  {
   "cell_type": "code",
   "execution_count": 15,
   "metadata": {
    "dotnet_interactive": {
     "language": "fsharp"
    },
    "polyglot_notebook": {
     "kernelName": "fsharp"
    }
   },
   "outputs": [
    {
     "name": "stdout",
     "output_type": "stream",
     "text": [
      "       Pclass SibSp Parch Survived Sex Embarked_C Embarked_Q Embarked_S Fare    Age               Age_missing \n",
      "1   -> 3      1     0     0        0   0          0          1          7.25    22                0           \n",
      "2   -> 1      1     0     1        1   1          0          0          71.2833 38                0           \n",
      "3   -> 3      0     0     1        1   0          0          1          7.925   26                0           \n",
      "4   -> 1      1     0     1        1   0          0          1          53.1    35                0           \n",
      "5   -> 3      0     0     0        0   0          0          1          8.05    35                0           \n",
      "6   -> 3      0     0     0        0   0          1          0          8.4583  29.69911764705882 1           \n",
      "7   -> 1      0     0     0        0   0          0          1          51.8625 54                0           \n",
      "8   -> 3      3     1     0        0   0          0          1          21.075  2                 0           \n",
      "9   -> 3      0     2     1        1   0          0          1          11.1333 27                0           \n",
      "10  -> 2      1     0     1        1   1          0          0          30.0708 14                0           \n",
      "11  -> 3      1     1     1        1   0          0          1          16.7    4                 0           \n",
      "12  -> 1      0     0     1        1   0          0          1          26.55   58                0           \n",
      "13  -> 3      0     0     0        0   0          0          1          8.05    20                0           \n",
      "14  -> 3      1     5     0        0   0          0          1          31.275  39                0           \n",
      "15  -> 3      0     0     0        1   0          0          1          7.8542  14                0           \n",
      ":      ...    ...   ...   ...      ... ...        ...        ...        ...     ...               ...         \n",
      "877 -> 3      0     0     0        0   0          0          1          9.8458  20                0           \n",
      "878 -> 3      0     0     0        0   0          0          1          7.8958  19                0           \n",
      "879 -> 3      0     0     0        0   0          0          1          7.8958  29.69911764705882 1           \n",
      "880 -> 1      0     1     1        1   1          0          0          83.1583 56                0           \n",
      "881 -> 2      0     1     1        1   0          0          1          26      25                0           \n",
      "882 -> 3      0     0     0        0   0          0          1          7.8958  33                0           \n",
      "883 -> 3      0     0     0        1   0          0          1          10.5167 22                0           \n",
      "884 -> 2      0     0     0        0   0          0          1          10.5    28                0           \n",
      "885 -> 3      0     0     0        0   0          0          1          7.05    25                0           \n",
      "886 -> 3      0     5     0        1   0          1          0          29.125  39                0           \n",
      "887 -> 2      0     0     0        0   0          0          1          13      27                0           \n",
      "888 -> 1      0     0     1        1   0          0          1          30      19                0           \n",
      "889 -> 3      1     2     0        1   0          0          1          23.45   29.69911764705882 1           \n",
      "890 -> 1      0     0     1        0   1          0          0          30      26                0           \n",
      "891 -> 3      0     0     0        0   0          1          0          7.75    32                0           \n",
      "\n",
      "        Pclass SibSp Parch Sex Embarked_C Embarked_Q Embarked_S Fare    Age                Age_missing \n",
      "892  -> 3      0     0     0   0          1          0          7.8292  34.5               0           \n",
      "893  -> 3      1     0     1   0          0          1          7       47                 0           \n",
      "894  -> 2      0     0     0   0          1          0          9.6875  62                 0           \n",
      "895  -> 3      0     0     0   0          0          1          8.6625  27                 0           \n",
      "896  -> 3      1     1     1   0          0          1          12.2875 22                 0           \n",
      "897  -> 3      0     0     0   0          0          1          9.225   14                 0           \n",
      "898  -> 3      0     0     1   0          1          0          7.6292  30                 0           \n",
      "899  -> 2      1     1     0   0          0          1          29      26                 0           \n",
      "900  -> 3      0     0     1   1          0          0          7.2292  18                 0           \n",
      "901  -> 3      2     0     0   0          0          1          24.15   21                 0           \n",
      "902  -> 3      0     0     0   0          0          1          7.8958  30.272590361445783 1           \n",
      "903  -> 1      0     0     0   0          0          1          26      46                 0           \n",
      "904  -> 1      1     0     1   0          0          1          82.2667 23                 0           \n",
      "905  -> 2      1     0     0   0          0          1          26      63                 0           \n",
      "906  -> 1      1     0     1   0          0          1          61.175  47                 0           \n",
      ":       ...    ...   ...   ... ...        ...        ...        ...     ...                ...         \n",
      "1295 -> 1      0     0     0   0          0          1          47.1    17                 0           \n",
      "1296 -> 1      1     0     0   1          0          0          27.7208 43                 0           \n",
      "1297 -> 2      0     0     0   1          0          0          13.8625 20                 0           \n",
      "1298 -> 2      1     0     0   0          0          1          10.5    23                 0           \n",
      "1299 -> 1      1     1     0   1          0          0          211.5   50                 0           \n",
      "1300 -> 3      0     0     1   0          1          0          7.7208  30.272590361445783 1           \n",
      "1301 -> 3      1     1     1   0          0          1          13.775  3                  0           \n",
      "1302 -> 3      0     0     1   0          1          0          7.75    30.272590361445783 1           \n",
      "1303 -> 1      1     0     1   0          1          0          90      37                 0           \n",
      "1304 -> 3      0     0     1   0          0          1          7.775   28                 0           \n",
      "1305 -> 3      0     0     0   0          0          1          8.05    30.272590361445783 1           \n",
      "1306 -> 1      0     0     1   1          0          0          108.9   39                 0           \n",
      "1307 -> 3      0     0     0   0          0          1          7.25    38.5               0           \n",
      "1308 -> 3      0     0     0   0          0          1          8.05    30.272590361445783 1           \n",
      "1309 -> 3      1     1     0   1          0          0          22.3583 30.272590361445783 1           \n",
      "\n"
     ]
    }
   ],
   "source": [
    "// one-hot エンコーディング．\n",
    "let oneHotEncode (colName: string) (categories: string list) (frame: Frame<'R, string>) =\n",
    "    // 元の列を取得する．\n",
    "    let originalCol = frame.GetColumn colName\n",
    "\n",
    "    // カテゴリを表す列を追加する．\n",
    "    let addCategoryCol (category: string) (frame: Frame<'R, string>) =\n",
    "        let col =\n",
    "            originalCol\n",
    "            |> Series.mapValues (fun v -> if v = category then 1.0 else 0.0)\n",
    "        \n",
    "        frame\n",
    "        |> Frame.addCol (colName + \"_\" + category) col\n",
    "\n",
    "    frame\n",
    "    // 元の列を削除し，\n",
    "    |> Frame.dropCol colName\n",
    "    // categories の各要素 に対して，addCategoryCol を適用する．\n",
    "    |> Seq.foldBack addCategoryCol categories\n",
    "\n",
    "let preprocess (frame: Frame<int, string>) =\n",
    "    frame\n",
    "    // Name, Ticket, Cabin は削除する．\n",
    "    |> Frame.dropCol \"Name\"\n",
    "    |> Frame.dropCol \"Ticket\"\n",
    "    |> Frame.dropCol \"Cabin\"\n",
    "    // Sex は `male` ならば `0.0`，`female` ならば `1.0` に置き換える．\n",
    "    |> Frame.replaceCol \"Sex\" (frame.GetColumn \"Sex\" |> Series.mapValues (fun s -> if s = \"male\" then 0 else 1))\n",
    "    // Embarked は one-hot エンコーディングを行う．\n",
    "    |> oneHotEncode \"Embarked\" [ \"S\"; \"Q\"; \"C\" ]\n",
    "    // Fare は欠損値を平均値で置き換える．\n",
    "    |> Frame.replaceCol \"Fare\" (\n",
    "        frame.GetColumn \"Fare\"\n",
    "        |> Series.fillMissingWith (frame?Fare |> Stats.mean)\n",
    "    )\n",
    "    // Age は欠損値を平均値で置き換え，そのうえで欠損値であるか示す列を追加する．\n",
    "    |> Frame.replaceCol \"Age\" (\n",
    "        frame.GetColumn \"Age\"\n",
    "        |> Series.fillMissingWith (frame?Age |> Stats.mean)\n",
    "    )\n",
    "    |> Frame.addCol \"Age_missing\" (\n",
    "        frame.GetColumn \"Age\"\n",
    "        |> Series.mapValues (fun _ -> 0)\n",
    "        |> Series.fillMissingWith 1\n",
    "    )\n",
    "\n",
    "let train' =\n",
    "    train\n",
    "    |> Frame.replaceCol \"Survived\" (train?Survived |> Series.mapValues float)\n",
    "    |> preprocess\n",
    "let test' = test |> preprocess\n",
    "\n",
    "// test が Survived を含むなら以下のコードで Survived を変換する．\n",
    "// let test' = test |> preprocess |> Frame.replaceCol \"Survived\" (test?Survived |> Series.mapValues float)\n",
    "\n",
    "train'.Print()\n",
    "test'.Print()"
   ]
  },
  {
   "cell_type": "code",
   "execution_count": 16,
   "metadata": {
    "dotnet_interactive": {
     "language": "fsharp"
    }
   },
   "outputs": [
    {
     "name": "stdout",
     "output_type": "stream",
     "text": [
      "Train data:\n",
      "No missing values\n",
      "Test data:\n",
      "No missing values\n"
     ]
    }
   ],
   "source": [
    "// 欠損値を改めて確認する．\n",
    "printfn \"Train data:\"\n",
    "printCleansingInfo train'\n",
    "printfn \"Test data:\"\n",
    "printCleansingInfo test'"
   ]
  },
  {
   "cell_type": "markdown",
   "metadata": {},
   "source": [
    "## Accord.NET ... 機械学習ライブラリ\n",
    "\n",
    "続いて [Accord.NET](http://accord-framework.net/) を用いてデータの学習を行います．今回は多変量ロジスティック回帰分析とランダムフォレストをデモンストレートします．\n",
    "\n",
    "まずはデータフレームから予測変数と目的変数の配列を取り出します．\n"
   ]
  },
  {
   "cell_type": "code",
   "execution_count": 17,
   "metadata": {
    "dotnet_interactive": {
     "language": "fsharp"
    }
   },
   "outputs": [],
   "source": [
    "let inputs: float array array =\n",
    "    train'\n",
    "    |> Frame.dropCol \"Survived\"\n",
    "    |> Frame.toJaggedArray\n",
    "\n",
    "let survived: int array =\n",
    "    train'\n",
    "    |> Frame.getCol \"Survived\"\n",
    "    |> Series.values\n",
    "    |> Seq.toArray"
   ]
  },
  {
   "cell_type": "markdown",
   "metadata": {},
   "source": [
    "次に，ロジスティック回帰とランダムフォレストのモデルを作成し，学習を行います．\n",
    "\n",
    "それぞれのモデルは `Accord.Statistics.Analysis.MultivariateLogisticRegression` および `Accord.MachineLearning.DecisionTrees.Learning.C45Learning` に存在します(ランダムフォレストのアルゴリズムはいくつか選択することができます)．モデルを作成し，`.Learn(inputs, survived)` でトレーニングデータを学習させます．\n"
   ]
  },
  {
   "cell_type": "code",
   "execution_count": 18,
   "metadata": {
    "dotnet_interactive": {
     "language": "fsharp"
    }
   },
   "outputs": [],
   "source": [
    "open Accord\n",
    "open Accord.Statistics.Analysis\n",
    "open Accord.MachineLearning.DecisionTrees.Learning\n",
    "\n",
    "// Multinomial logistic regression.\n",
    "let MLR = MultinomialLogisticRegressionAnalysis().Learn(inputs, survived)\n",
    "\n",
    "// Random forest.\n",
    "let RF = C45Learning().Learn(inputs, survived)\n",
    "\n",
    "// 入力から生存者を予測する関数を取得する．\n",
    "let MLRDecide: float array -> int = MLR.Decide\n",
    "let RFDecide: float array -> int = RF.Decide"
   ]
  },
  {
   "cell_type": "markdown",
   "metadata": {},
   "source": [
    "予測関数 `decide: float array -> int` を用いてテストデータの生存者を予測する関数を定義します．\n"
   ]
  },
  {
   "cell_type": "code",
   "execution_count": 19,
   "metadata": {
    "dotnet_interactive": {
     "language": "fsharp"
    }
   },
   "outputs": [],
   "source": [
    "// テストデータの予測結果を計算する．\n",
    "let predictions (decide: float array -> int) =\n",
    "    test'\n",
    "    |> Frame.rows\n",
    "    |> Series.observations\n",
    "    |> Seq.map (fun (id, row) ->\n",
    "        id,\n",
    "        row.Values\n",
    "        |> Seq.map Convert.ToDouble\n",
    "        |> Seq.toArray\n",
    "        |> decide\n",
    "    )\n",
    "    |> Seq.map (fun (id, pred) -> {|\n",
    "        PassengerId = id\n",
    "        Survived = pred\n",
    "    |})"
   ]
  },
  {
   "cell_type": "markdown",
   "metadata": {},
   "source": [
    "テストデータが `Survived` を含むなら，以下の関数で正答率を計算できます．\n"
   ]
  },
  {
   "cell_type": "code",
   "execution_count": 20,
   "metadata": {
    "dotnet_interactive": {
     "language": "fsharp"
    }
   },
   "outputs": [],
   "source": [
    "// 正答率を計算する．\n",
    "let accuracy (predictions: {| PassengerId: int; Survived: int |} seq) =\n",
    "    let actual =\n",
    "        test'\n",
    "        |> Frame.getCol \"Survived\"\n",
    "        |> Series.values\n",
    "        |> Seq.map (int: float -> int)\n",
    "\n",
    "    let correctCount =\n",
    "        predictions\n",
    "        |> Seq.map (fun p -> p.Survived)\n",
    "        |> Seq.zip actual\n",
    "        |> Seq.filter (fun (pred, act) -> pred = act)\n",
    "        |> Seq.length\n",
    "    \n",
    "    float correctCount / float (Seq.length actual)"
   ]
  },
  {
   "cell_type": "markdown",
   "metadata": {},
   "source": [
    "kaggle への提出用の csv ファイルを作成する関数を定義します．\n"
   ]
  },
  {
   "cell_type": "code",
   "execution_count": 21,
   "metadata": {
    "dotnet_interactive": {
     "language": "fsharp"
    }
   },
   "outputs": [],
   "source": [
    "// 予測結果を出力する．\n",
    "let export (fileName: string) (predictions: {| PassengerId: int; Survived: int |} seq) =\n",
    "    let header = \"PassengerId,Survived\\n\"\n",
    "    let body =\n",
    "        predictions\n",
    "        |> Seq.map (fun p -> sprintf \"%d,%d\" p.PassengerId p.Survived)\n",
    "        |> String.concat \"\\n\"\n",
    "    \n",
    "    let out = header + body\n",
    "    File.WriteAllText (__SOURCE_DIRECTORY__ + \"/../submission/titanic/\" + fileName + \".csv\", out)"
   ]
  },
  {
   "cell_type": "markdown",
   "metadata": {},
   "source": [
    "以上の関数を，ロジスティック回帰とランダムフォレストのそれぞれについて実行します．\n"
   ]
  },
  {
   "cell_type": "code",
   "execution_count": null,
   "metadata": {
    "dotnet_interactive": {
     "language": "fsharp"
    }
   },
   "outputs": [],
   "source": [
    "[\n",
    "    \"MLR\", MLRDecide\n",
    "    \"RF\", RFDecide\n",
    "]\n",
    "|> Seq.iter (fun (name, decide) ->\n",
    "    printfn \"Decider: %s\" name\n",
    "\n",
    "    let predictions = predictions decide\n",
    "\n",
    "    predictions\n",
    "    |> Seq.take 10\n",
    "    |> Seq.iter (fun p -> printfn \"PassengerId: %d, Survived: %d\" p.PassengerId p.Survived)\n",
    "\n",
    "    printfn \"...\"\n",
    "\n",
    "    if test'.ColumnKeys |> Seq.contains \"Survived\" then\n",
    "        predictions |> accuracy |> printfn \"Accuracy: %f\"\n",
    "    \n",
    "    predictions |> export (name + \"-submission\")\n",
    ")"
   ]
  },
  {
   "cell_type": "markdown",
   "metadata": {},
   "source": [
    "今回は特徴量エンジニアリングなどを特に行っていませんが，実践的にはデータの前処理の際にグルーピングなどの処理を挿入してさらに精度を向上させることもできます．\n"
   ]
  }
 ],
 "metadata": {
  "kernelspec": {
   "display_name": ".NET (C#)",
   "language": "C#",
   "name": ".net-csharp"
  },
  "language_info": {
   "name": "polyglot-notebook"
  },
  "polyglot_notebook": {
   "kernelInfo": {
    "defaultKernelName": "csharp",
    "items": [
     {
      "aliases": [
       "C#",
       "c#"
      ],
      "languageName": "C#",
      "name": "csharp"
     },
     {
      "aliases": [
       "F#",
       "f#"
      ],
      "languageName": "F#",
      "name": "fsharp"
     },
     {
      "aliases": [],
      "languageName": "KQL",
      "name": "kql"
     },
     {
      "aliases": [
       "frontend"
      ],
      "name": "vscode"
     }
    ]
   }
  }
 },
 "nbformat": 4,
 "nbformat_minor": 2
}
