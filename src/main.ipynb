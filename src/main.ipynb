{
 "cells": [
  {
   "cell_type": "markdown",
   "metadata": {},
   "source": [
    "# F# によるデータ解析・機械学習のデモ\n",
    "\n",
    "この notebook は kaggle のチュートリアルコンペティションである [Titanic](https://www.kaggle.com/competitions/titanic) のデータを F# (w/ Polyglot Notebook)を用いて解析するデモンストレーションです．\n",
    "\n",
    "以下の構成でファイルが格納されていることを想定しています：\n",
    "\n",
    "- data/ : データファイル．[kaggle からダウンロードする](https://www.kaggle.com/competitions/titanic)．\n",
    "  - train.csv : 学習用データ．\n",
    "  - test.csv : テスト用データ\n",
    "- src/ : スクリプト．\n",
    "  - main.ipynb : このファイル．\n",
    "  - Utils.fsx : ユーティリティ関数を定義したファイル．\n",
    "- submission/ : 提出用ファイル．\n"
   ]
  },
  {
   "cell_type": "markdown",
   "metadata": {},
   "source": [
    "依存パッケージを読み込みます．\n",
    "また，追加のユーティリティを定義したファイル `Utils.fsx` をロードしておきます．\n"
   ]
  },
  {
   "cell_type": "code",
   "execution_count": 1,
   "metadata": {
    "dotnet_interactive": {
     "language": "fsharp"
    },
    "polyglot_notebook": {
     "kernelName": "fsharp"
    }
   },
   "outputs": [
    {
     "data": {
      "text/html": [
       "<div><div></div><div></div><div><strong>Installed Packages</strong><ul><li><span>Accord.MachineLearning, 3.8.0</span></li><li><span>Accord.Statistics, 3.8.0</span></li><li><span>Deedle, 3.0.0</span></li></ul></div></div>"
      ]
     },
     "metadata": {},
     "output_type": "display_data"
    }
   ],
   "source": [
    "#r \"nuget: Deedle\"\n",
    "#r \"nuget: Accord.MachineLearning\"\n",
    "#r \"nuget: Accord.Statistics\""
   ]
  },
  {
   "cell_type": "code",
   "execution_count": 2,
   "metadata": {
    "dotnet_interactive": {
     "language": "fsharp"
    }
   },
   "outputs": [],
   "source": [
    "#load \"Utils.fsx\"\n",
    "\n",
    "open Utils"
   ]
  },
  {
   "cell_type": "markdown",
   "metadata": {},
   "source": [
    "## Deedle ... データフレームライブラリ\n",
    "\n",
    "最初に，データフレームライブラリ [Deedle](https://bluemountaincapital.github.io/Deedle/) を用いてタイタニック号の乗客データを読み込みます．\n",
    "\n",
    "### データの読み込み\n",
    "\n",
    "`Deedle.Frame` はデータフレームを格納する型です．配置したトレーニングファイル，テストファイルを `Frame.ReadCsv` 関数で読み込み，`Frame.indexRowsInt` 関数で `PassengerId` を行インデックスに設定します．\n"
   ]
  },
  {
   "cell_type": "code",
   "execution_count": 3,
   "metadata": {
    "dotnet_interactive": {
     "language": "fsharp"
    }
   },
   "outputs": [],
   "source": [
    "open Deedle\n",
    "\n",
    "let train =\n",
    "    Frame.ReadCsv(__SOURCE_DIRECTORY__ + \"/../data/titanic/train.csv\") // トレーニングデータを読み込み，\n",
    "    |> Frame.indexRowsInt \"PassengerId\" // PassengerId を行名に設定する．\n",
    "\n",
    "let test =\n",
    "    Frame.ReadCsv(__SOURCE_DIRECTORY__ + \"/../data/titanic/test.csv\") // テストデータを読み込み，\n",
    "    |> Frame.indexRowsInt \"PassengerId\" // PassengerId を行名に設定する．\n",
    "\n",
    "// テストデータの正答率をローカルで調べたい場合は代わりに以下のコードで `train` を分割して読み込む．\n",
    "\n",
    "// let titanic =\n",
    "//     Frame.ReadCsv(__SOURCE_DIRECTORY__ + \"/../data/titanic/train.csv\") |> Frame.indexRowsInt \"PassengerId\"\n",
    "\n",
    "// let train = titanic.GetRowsAt([|0..790|])\n",
    "// let test = titanic.GetRowsAt([|791..890|])"
   ]
  },
  {
   "cell_type": "code",
   "execution_count": 4,
   "metadata": {
    "dotnet_interactive": {
     "language": "fsharp"
    }
   },
   "outputs": [
    {
     "name": "stdout",
     "output_type": "stream",
     "text": [
      "       Survived Pclass Name                                                Sex    Age       SibSp Parch Ticket           Fare    Cabin Embarked \r\n",
      "1   -> False    3      Braund, Mr. Owen Harris                             male   22        1     0     A/5 21171        7.25          S        \r\n",
      "2   -> True     1      Cumings, Mrs. John Bradley (Florence Briggs Thayer) female 38        1     0     PC 17599         71.2833 C85   C        \r\n",
      "3   -> True     3      Heikkinen, Miss. Laina                              female 26        0     0     STON/O2. 3101282 7.925         S        \r\n",
      "4   -> True     1      Futrelle, Mrs. Jacques Heath (Lily May Peel)        female 35        1     0     113803           53.1    C123  S        \r\n",
      "5   -> False    3      Allen, Mr. William Henry                            male   35        0     0     373450           8.05          S        \r\n",
      "6   -> False    3      Moran, Mr. James                                    male   <missing> 0     0     330877           8.4583        Q        \r\n",
      "7   -> False    1      McCarthy, Mr. Timothy J                             male   54        0     0     17463            51.8625 E46   S        \r\n",
      "8   -> False    3      Palsson, Master. Gosta Leonard                      male   2         3     1     349909           21.075        S        \r\n",
      "9   -> True     3      Johnson, Mrs. Oscar W (Elisabeth Vilhelmina Berg)   female 27        0     2     347742           11.1333       S        \r\n",
      "10  -> True     2      Nasser, Mrs. Nicholas (Adele Achem)                 female 14        1     0     237736           30.0708       C        \r\n",
      "11  -> True     3      Sandstrom, Miss. Marguerite Rut                     female 4         1     1     PP 9549          16.7    G6    S        \r\n",
      "12  -> True     1      Bonnell, Miss. Elizabeth                            female 58        0     0     113783           26.55   C103  S        \r\n",
      "13  -> False    3      Saundercock, Mr. William Henry                      male   20        0     0     A/5. 2151        8.05          S        \r\n",
      "14  -> False    3      Andersson, Mr. Anders Johan                         male   39        1     5     347082           31.275        S        \r\n",
      "15  -> False    3      Vestrom, Miss. Hulda Amanda Adolfina                female 14        0     0     350406           7.8542        S        \r\n",
      ":      ...      ...    ...                                                 ...    ...       ...   ...   ...              ...     ...   ...      \r\n",
      "877 -> False    3      Gustafsson, Mr. Alfred Ossian                       male   20        0     0     7534             9.8458        S        \r\n",
      "878 -> False    3      Petroff, Mr. Nedelio                                male   19        0     0     349212           7.8958        S        \r\n",
      "879 -> False    3      Laleff, Mr. Kristo                                  male   <missing> 0     0     349217           7.8958        S        \r\n",
      "880 -> True     1      Potter, Mrs. Thomas Jr (Lily Alexenia Wilson)       female 56        0     1     11767            83.1583 C50   C        \r\n",
      "881 -> True     2      Shelley, Mrs. William (Imanita Parrish Hall)        female 25        0     1     230433           26            S        \r\n",
      "882 -> False    3      Markun, Mr. Johann                                  male   33        0     0     349257           7.8958        S        \r\n",
      "883 -> False    3      Dahlberg, Miss. Gerda Ulrika                        female 22        0     0     7552             10.5167       S        \r\n",
      "884 -> False    2      Banfield, Mr. Frederick James                       male   28        0     0     C.A./SOTON 34068 10.5          S        \r\n",
      "885 -> False    3      Sutehall, Mr. Henry Jr                              male   25        0     0     SOTON/OQ 392076  7.05          S        \r\n",
      "886 -> False    3      Rice, Mrs. William (Margaret Norton)                female 39        0     5     382652           29.125        Q        \r\n",
      "887 -> False    2      Montvila, Rev. Juozas                               male   27        0     0     211536           13            S        \r\n",
      "888 -> True     1      Graham, Miss. Margaret Edith                        female 19        0     0     112053           30      B42   S        \r\n",
      "889 -> False    3      Johnston, Miss. Catherine Helen \"Carrie\"            female <missing> 1     2     W./C. 6607       23.45         S        \r\n",
      "890 -> True     1      Behr, Mr. Karl Howell                               male   26        0     0     111369           30      C148  C        \r\n",
      "891 -> False    3      Dooley, Mr. Patrick                                 male   32        0     0     370376           7.75          Q        \r\n",
      "\r\n"
     ]
    }
   ],
   "source": [
    "// トレーニングデータを表示する．\n",
    "train.Print()"
   ]
  },
  {
   "cell_type": "code",
   "execution_count": 5,
   "metadata": {
    "dotnet_interactive": {
     "language": "fsharp"
    }
   },
   "outputs": [
    {
     "name": "stdout",
     "output_type": "stream",
     "text": [
      "        Pclass Name                                                    Sex    Age       SibSp Parch Ticket             Fare    Cabin Embarked \r\n",
      "892  -> 3      Kelly, Mr. James                                        male   34.5      0     0     330911             7.8292        Q        \r\n",
      "893  -> 3      Wilkes, Mrs. James (Ellen Needs)                        female 47        1     0     363272             7             S        \r\n",
      "894  -> 2      Myles, Mr. Thomas Francis                               male   62        0     0     240276             9.6875        Q        \r\n",
      "895  -> 3      Wirz, Mr. Albert                                        male   27        0     0     315154             8.6625        S        \r\n",
      "896  -> 3      Hirvonen, Mrs. Alexander (Helga E Lindqvist)            female 22        1     1     3101298            12.2875       S        \r\n",
      "897  -> 3      Svensson, Mr. Johan Cervin                              male   14        0     0     7538               9.225         S        \r\n",
      "898  -> 3      Connolly, Miss. Kate                                    female 30        0     0     330972             7.6292        Q        \r\n",
      "899  -> 2      Caldwell, Mr. Albert Francis                            male   26        1     1     248738             29            S        \r\n",
      "900  -> 3      Abrahim, Mrs. Joseph (Sophie Halaut Easu)               female 18        0     0     2657               7.2292        C        \r\n",
      "901  -> 3      Davies, Mr. John Samuel                                 male   21        2     0     A/4 48871          24.15         S        \r\n",
      "902  -> 3      Ilieff, Mr. Ylio                                        male   <missing> 0     0     349220             7.8958        S        \r\n",
      "903  -> 1      Jones, Mr. Charles Cresson                              male   46        0     0     694                26            S        \r\n",
      "904  -> 1      Snyder, Mrs. John Pillsbury (Nelle Stevenson)           female 23        1     0     21228              82.2667 B45   S        \r\n",
      "905  -> 2      Howard, Mr. Benjamin                                    male   63        1     0     24065              26            S        \r\n",
      "906  -> 1      Chaffee, Mrs. Herbert Fuller (Carrie Constance Toogood) female 47        1     0     W.E.P. 5734        61.175  E31   S        \r\n",
      ":       ...    ...                                                     ...    ...       ...   ...   ...                ...     ...   ...      \r\n",
      "1295 -> 1      Carrau, Mr. Jose Pedro                                  male   17        0     0     113059             47.1          S        \r\n",
      "1296 -> 1      Frauenthal, Mr. Isaac Gerald                            male   43        1     0     17765              27.7208 D40   C        \r\n",
      "1297 -> 2      Nourney, Mr. Alfred (Baron von Drachstedt\")\"            male   20        0     0     SC/PARIS 2166      13.8625 D38   C        \r\n",
      "1298 -> 2      Ware, Mr. William Jeffery                               male   23        1     0     28666              10.5          S        \r\n",
      "1299 -> 1      Widener, Mr. George Dunton                              male   50        1     1     113503             211.5   C80   C        \r\n",
      "1300 -> 3      Riordan, Miss. Johanna Hannah\"\"                         female <missing> 0     0     334915             7.7208        Q        \r\n",
      "1301 -> 3      Peacock, Miss. Treasteall                               female 3         1     1     SOTON/O.Q. 3101315 13.775        S        \r\n",
      "1302 -> 3      Naughton, Miss. Hannah                                  female <missing> 0     0     365237             7.75          Q        \r\n",
      "1303 -> 1      Minahan, Mrs. William Edward (Lillian E Thorpe)         female 37        1     0     19928              90      C78   Q        \r\n",
      "1304 -> 3      Henriksson, Miss. Jenny Lovisa                          female 28        0     0     347086             7.775         S        \r\n",
      "1305 -> 3      Spector, Mr. Woolf                                      male   <missing> 0     0     A.5. 3236          8.05          S        \r\n",
      "1306 -> 1      Oliva y Ocana, Dona. Fermina                            female 39        0     0     PC 17758           108.9   C105  C        \r\n",
      "1307 -> 3      Saether, Mr. Simon Sivertsen                            male   38.5      0     0     SOTON/O.Q. 3101262 7.25          S        \r\n",
      "1308 -> 3      Ware, Mr. Frederick                                     male   <missing> 0     0     359309             8.05          S        \r\n",
      "1309 -> 3      Peter, Master. Michael J                                male   <missing> 1     1     2668               22.3583       C        \r\n",
      "\r\n"
     ]
    }
   ],
   "source": [
    "// テストデータを表示する．\n",
    "test.Print()"
   ]
  },
  {
   "cell_type": "markdown",
   "metadata": {},
   "source": [
    "今回のデータフレームは `Frame<int, string>` という型を持ちます．これは行のインデックスが `int` 型，列のインデックスが `string` 型であることを意味します．\n",
    "データフレームの値の型は，整数であったり文字列であったりするので，特に指定しない限り動的型 `obj` として扱われます．\n",
    "たとえば `string` 型であることが分かっているセルの値 `v` を `string` 型として扱いたい場合は，`v :?> string` というダウンキャストを行います．\n"
   ]
  },
  {
   "cell_type": "markdown",
   "metadata": {},
   "source": [
    "### データクレンジング・データの前処理\n",
    "\n",
    "上で表示した通り，データフレームのいくつかの列には欠損値が含まれています．データ解析の前にこれらを埋める必要があります．また，整数や boolean，文字列であるような列の値を変換し，浮動小数点型のみを含むデータフレームに変換します．\n",
    "\n",
    "Deedle のデータフレームでは，欠損したセルの値をピンポイントで読み込もうとしたタイミングで例外が発生します．また，`Series` を読み込む関数，たとえば `Series.values` では欠損値はスキップされ，値の個数が減少した列が返される点に注意が必要です．欠損値を `None`，欠損値でない値を `Some` として取り出すには，たとえば `Series.valuesAll` のように末尾に `All` を付けた関数を用います．\n",
    "\n",
    "まずは欠損値の数を表示する関数 `printCleansingInfo` を作成しましょう．なお，データ上は `Embarked` や `Cabin` なども欠損値を含みますが，文字列型の列については欠損値は空文字列として取り込まれているので，これらは欠損値として扱わないことにします．\n"
   ]
  },
  {
   "cell_type": "code",
   "execution_count": 6,
   "metadata": {
    "dotnet_interactive": {
     "language": "fsharp"
    }
   },
   "outputs": [
    {
     "name": "stdout",
     "output_type": "stream",
     "text": [
      "Train data:\r\n",
      "Column \"Age\" has 177 missing values\r\n",
      "Test data:\r\n",
      "Column \"Age\" has 86 missing values\r\n",
      "Column \"Fare\" has 1 missing values\r\n"
     ]
    }
   ],
   "source": [
    "let printCleansingInfo (frame: Frame<'R, 'C>) =\n",
    "    let missingValueCounts =\n",
    "        frame.Columns\n",
    "        |> Series.observations\n",
    "        |> Seq.map (\n",
    "            fun (key, col) ->\n",
    "                let length = col.ValuesAll |> Seq.length // 欠損値も含めた列の長さ．\n",
    "                let valueCount = col.ValueCount // 欠損値を除いた列の長さ．\n",
    "                let missingCount = length - valueCount // 欠損値の数．\n",
    "                key, missingCount\n",
    "        )\n",
    "        |> Seq.filter (fun (key, missingCount) -> missingCount > 0)\n",
    "    \n",
    "    missingValueCounts\n",
    "    |> Seq.iter (fun (key, count) -> printfn \"Column %A has %d missing values\" key count)\n",
    "\n",
    "    if missingValueCounts |> Seq.isEmpty then\n",
    "        printfn \"No missing values\"\n",
    "\n",
    "printfn \"Train data:\"\n",
    "printCleansingInfo train\n",
    "\n",
    "printfn \"Test data:\"\n",
    "printCleansingInfo test"
   ]
  },
  {
   "cell_type": "markdown",
   "metadata": {},
   "source": [
    "これらの欠損値がなくなり，すべてのセルの値が `float` 型になるよう，データフレームを変換します．\n",
    "以下では `Utils.fsx` 内で定義した関数を用いて各列を変換していきます．\n"
   ]
  },
  {
   "cell_type": "code",
   "execution_count": 7,
   "metadata": {
    "dotnet_interactive": {
     "language": "fsharp"
    }
   },
   "outputs": [],
   "source": [
    "let preprocess (frame: Frame<int, string>) =\n",
    "    frame\n",
    "    // Pclass は int から float に変換する．\n",
    "    |> FrameExt.modifyCol \"Pclass\" float\n",
    "    // Name は削除する．\n",
    "    |> Frame.dropCol \"Name\"\n",
    "    // Sex は one-hot エンコーディングを行う．\n",
    "    // カテゴリは `male` か `female` であるので，`male` であるかどうかを示す列を追加する．\n",
    "    |> FrameExt.oneHot \"Sex\" [ \"male\" ]\n",
    "    // Age は欠損値を平均値で置き換え，そのうえで欠損値であるか示す列を追加する．\n",
    "    |> FrameExt.addColMissingTag \"Age\"\n",
    "    |> FrameExt.modifyCol \"Age_missing\" boolToFloat\n",
    "    |> FrameExt.replaceColMissing \"Age\" (frame?Age |> Stats.mean)\n",
    "    // SibSp，Parch はそれぞれ int から float に変換する．\n",
    "    |> FrameExt.modifyCol \"SibSp\" float\n",
    "    |> FrameExt.modifyCol \"Parch\" float\n",
    "    // Ticket は削除する．\n",
    "    |> Frame.dropCol \"Ticket\"\n",
    "    // Fare は欠損値を平均値で置き換える．欠損値であるか示す列は，欠損値がわずかであるため省略する．\n",
    "    |> FrameExt.modifyCol \"Fare\" (fun value -> value.ToString() |> float)\n",
    "    |> FrameExt.replaceColMissing \"Fare\" (frame?Fare |> Stats.mean)\n",
    "    // Cabin は削除する．\n",
    "    |> Frame.dropCol \"Cabin\"\n",
    "    // Embarked は one-hot エンコーディングを行う．\n",
    "    // カテゴリには `S`，`Q`，`C` で，さらに欠損値を表す空文字列があるので，`S` であるかどうか，`Q` であるかどうか，`C` であるかどうかを示す列を追加する．\n",
    "    |> FrameExt.oneHot \"Embarked\" [ \"S\"; \"Q\"; \"C\" ]"
   ]
  },
  {
   "cell_type": "code",
   "execution_count": 8,
   "metadata": {
    "dotnet_interactive": {
     "language": "fsharp"
    }
   },
   "outputs": [
    {
     "name": "stdout",
     "output_type": "stream",
     "text": [
      "       Pclass Sex_male Age_missing Age               SibSp Parch Fare    Embarked_C Embarked_Q Embarked_S Survived \r\n",
      "1   -> 3      1        0           22                1     0     7.25    0          0          1          0        \r\n",
      "2   -> 1      0        0           38                1     0     71.2833 1          0          0          1        \r\n",
      "3   -> 3      0        0           26                0     0     7.925   0          0          1          1        \r\n",
      "4   -> 1      0        0           35                1     0     53.1    0          0          1          1        \r\n",
      "5   -> 3      1        0           35                0     0     8.05    0          0          1          0        \r\n",
      "6   -> 3      1        1           29.69911764705882 0     0     8.4583  0          1          0          0        \r\n",
      "7   -> 1      1        0           54                0     0     51.8625 0          0          1          0        \r\n",
      "8   -> 3      1        0           2                 3     1     21.075  0          0          1          0        \r\n",
      "9   -> 3      0        0           27                0     2     11.1333 0          0          1          1        \r\n",
      "10  -> 2      0        0           14                1     0     30.0708 1          0          0          1        \r\n",
      "11  -> 3      0        0           4                 1     1     16.7    0          0          1          1        \r\n",
      "12  -> 1      0        0           58                0     0     26.55   0          0          1          1        \r\n",
      "13  -> 3      1        0           20                0     0     8.05    0          0          1          0        \r\n",
      "14  -> 3      1        0           39                1     5     31.275  0          0          1          0        \r\n",
      "15  -> 3      0        0           14                0     0     7.8542  0          0          1          0        \r\n",
      ":      ...    ...      ...         ...               ...   ...   ...     ...        ...        ...        ...      \r\n",
      "877 -> 3      1        0           20                0     0     9.8458  0          0          1          0        \r\n",
      "878 -> 3      1        0           19                0     0     7.8958  0          0          1          0        \r\n",
      "879 -> 3      1        1           29.69911764705882 0     0     7.8958  0          0          1          0        \r\n",
      "880 -> 1      0        0           56                0     1     83.1583 1          0          0          1        \r\n",
      "881 -> 2      0        0           25                0     1     26      0          0          1          1        \r\n",
      "882 -> 3      1        0           33                0     0     7.8958  0          0          1          0        \r\n",
      "883 -> 3      0        0           22                0     0     10.5167 0          0          1          0        \r\n",
      "884 -> 2      1        0           28                0     0     10.5    0          0          1          0        \r\n",
      "885 -> 3      1        0           25                0     0     7.05    0          0          1          0        \r\n",
      "886 -> 3      0        0           39                0     5     29.125  0          1          0          0        \r\n",
      "887 -> 2      1        0           27                0     0     13      0          0          1          0        \r\n",
      "888 -> 1      0        0           19                0     0     30      0          0          1          1        \r\n",
      "889 -> 3      0        1           29.69911764705882 1     2     23.45   0          0          1          0        \r\n",
      "890 -> 1      1        0           26                0     0     30      1          0          0          1        \r\n",
      "891 -> 3      1        0           32                0     0     7.75    0          1          0          0        \r\n",
      "\r\n"
     ]
    }
   ],
   "source": [
    "// トレーニングデータを前処理する．\n",
    "let train' = preprocess train |> FrameExt.modifyCol \"Survived\" boolToFloat\n",
    "\n",
    "train'.Print()"
   ]
  },
  {
   "cell_type": "code",
   "execution_count": 9,
   "metadata": {
    "dotnet_interactive": {
     "language": "fsharp"
    }
   },
   "outputs": [
    {
     "name": "stdout",
     "output_type": "stream",
     "text": [
      "        Pclass Sex_male Age_missing Age                SibSp Parch Fare    Embarked_C Embarked_Q Embarked_S \r\n",
      "892  -> 3      1        0           34.5               0     0     7.8292  0          1          0          \r\n",
      "893  -> 3      0        0           47                 1     0     7       0          0          1          \r\n",
      "894  -> 2      1        0           62                 0     0     9.6875  0          1          0          \r\n",
      "895  -> 3      1        0           27                 0     0     8.6625  0          0          1          \r\n",
      "896  -> 3      0        0           22                 1     1     12.2875 0          0          1          \r\n",
      "897  -> 3      1        0           14                 0     0     9.225   0          0          1          \r\n",
      "898  -> 3      0        0           30                 0     0     7.6292  0          1          0          \r\n",
      "899  -> 2      1        0           26                 1     1     29      0          0          1          \r\n",
      "900  -> 3      0        0           18                 0     0     7.2292  1          0          0          \r\n",
      "901  -> 3      1        0           21                 2     0     24.15   0          0          1          \r\n",
      "902  -> 3      1        1           30.272590361445783 0     0     7.8958  0          0          1          \r\n",
      "903  -> 1      1        0           46                 0     0     26      0          0          1          \r\n",
      "904  -> 1      0        0           23                 1     0     82.2667 0          0          1          \r\n",
      "905  -> 2      1        0           63                 1     0     26      0          0          1          \r\n",
      "906  -> 1      0        0           47                 1     0     61.175  0          0          1          \r\n",
      ":       ...    ...      ...         ...                ...   ...   ...     ...        ...        ...        \r\n",
      "1295 -> 1      1        0           17                 0     0     47.1    0          0          1          \r\n",
      "1296 -> 1      1        0           43                 1     0     27.7208 1          0          0          \r\n",
      "1297 -> 2      1        0           20                 0     0     13.8625 1          0          0          \r\n",
      "1298 -> 2      1        0           23                 1     0     10.5    0          0          1          \r\n",
      "1299 -> 1      1        0           50                 1     1     211.5   1          0          0          \r\n",
      "1300 -> 3      0        1           30.272590361445783 0     0     7.7208  0          1          0          \r\n",
      "1301 -> 3      0        0           3                  1     1     13.775  0          0          1          \r\n",
      "1302 -> 3      0        1           30.272590361445783 0     0     7.75    0          1          0          \r\n",
      "1303 -> 1      0        0           37                 1     0     90      0          1          0          \r\n",
      "1304 -> 3      0        0           28                 0     0     7.775   0          0          1          \r\n",
      "1305 -> 3      1        1           30.272590361445783 0     0     8.05    0          0          1          \r\n",
      "1306 -> 1      0        0           39                 0     0     108.9   1          0          0          \r\n",
      "1307 -> 3      1        0           38.5               0     0     7.25    0          0          1          \r\n",
      "1308 -> 3      1        1           30.272590361445783 0     0     8.05    0          0          1          \r\n",
      "1309 -> 3      1        1           30.272590361445783 1     1     22.3583 1          0          0          \r\n",
      "\r\n"
     ]
    }
   ],
   "source": [
    "// テストデータを前処理する．\n",
    "let test' = \n",
    "    if test.ColumnKeys |> Seq.contains \"Survived\" then\n",
    "        // テストデータに Survived 列がある場合は，それを float に変換する．\n",
    "        preprocess test |> FrameExt.modifyCol \"Survived\" Utils.boolToFloat\n",
    "    else\n",
    "        preprocess test\n",
    "\n",
    "test'.Print()"
   ]
  },
  {
   "cell_type": "code",
   "execution_count": 10,
   "metadata": {
    "dotnet_interactive": {
     "language": "fsharp"
    }
   },
   "outputs": [
    {
     "name": "stdout",
     "output_type": "stream",
     "text": [
      "No missing values\r\n",
      "No missing values\r\n"
     ]
    }
   ],
   "source": [
    "// 欠損値を改めて確認する．\n",
    "printCleansingInfo train'\n",
    "printCleansingInfo test'"
   ]
  },
  {
   "cell_type": "markdown",
   "metadata": {},
   "source": [
    "## Accord.NET ... 機械学習ライブラリ\n",
    "\n",
    "続いて [Accord.NET](http://accord-framework.net/) を用いてデータの学習を行います．今回は多変量ロジスティック回帰分析とランダムフォレストをデモンストレートします．\n",
    "\n",
    "まずはデータフレームから予測変数と目的変数の配列を取り出します．\n"
   ]
  },
  {
   "cell_type": "code",
   "execution_count": 11,
   "metadata": {
    "dotnet_interactive": {
     "language": "fsharp"
    }
   },
   "outputs": [],
   "source": [
    "let inputs: float array array =\n",
    "    train'\n",
    "    |> Frame.dropCol \"Survived\"\n",
    "    |> Frame.toJaggedArray\n",
    "\n",
    "let survived: int array =\n",
    "    train'\n",
    "    |> Frame.getCol \"Survived\"\n",
    "    |> Series.values\n",
    "    |> Seq.toArray"
   ]
  },
  {
   "cell_type": "markdown",
   "metadata": {},
   "source": [
    "次に，ロジスティック回帰とランダムフォレストのモデルを作成し，学習を行います．\n",
    "\n",
    "それぞれのモデルは `Accord.Statistics.Analysis.MultivariateLogisticRegression` および `Accord.MachineLearning.DecisionTrees.Learning.C45Learning` に存在します(ランダムフォレストのアルゴリズムはいくつか選択することができます)．モデルを作成し，`.Learn(inputs, survived)` でトレーニングデータを学習させます．\n"
   ]
  },
  {
   "cell_type": "code",
   "execution_count": 12,
   "metadata": {
    "dotnet_interactive": {
     "language": "fsharp"
    }
   },
   "outputs": [],
   "source": [
    "open Accord\n",
    "open Accord.Statistics.Analysis\n",
    "open Accord.MachineLearning.DecisionTrees.Learning\n",
    "\n",
    "// Multinomial logistic regression.\n",
    "let MLR = MultinomialLogisticRegressionAnalysis().Learn(inputs, survived)\n",
    "\n",
    "// Random forest.\n",
    "let RF = C45Learning().Learn(inputs, survived)\n",
    "\n",
    "// 決定関数の配列を定義．\n",
    "let deciders: (string * (float array -> int)) array = [|\n",
    "    \"MLR\", MLR.Decide\n",
    "    \"RF\", RF.Decide\n",
    "|]"
   ]
  },
  {
   "cell_type": "markdown",
   "metadata": {},
   "source": [
    "決定関数 `decide: float array -> int` を用いてテストデータの生存者を予測する関数を定義します．\n"
   ]
  },
  {
   "cell_type": "code",
   "execution_count": 13,
   "metadata": {
    "dotnet_interactive": {
     "language": "fsharp"
    }
   },
   "outputs": [],
   "source": [
    "let predictions (decide: float array -> int) =\n",
    "    test'\n",
    "    |> Frame.rows\n",
    "    |> Series.observations\n",
    "    |> Seq.map (\n",
    "        fun (id, row) ->\n",
    "            id,\n",
    "            row.Values\n",
    "            |> Seq.map Convert.ToDouble\n",
    "            |> Seq.toArray\n",
    "            |> decide\n",
    "    )\n",
    "    |> Seq.map (\n",
    "        fun (id, pred) -> {|\n",
    "            PassengerId = id\n",
    "            Survived = pred\n",
    "        |}\n",
    "    )"
   ]
  },
  {
   "cell_type": "markdown",
   "metadata": {},
   "source": [
    "テストデータが `Survived` を含むなら，以下の関数で正答率を計算できます．\n"
   ]
  },
  {
   "cell_type": "code",
   "execution_count": null,
   "metadata": {
    "dotnet_interactive": {
     "language": "fsharp"
    }
   },
   "outputs": [],
   "source": [
    "// 正答率の計算\n",
    "let accuracy (predictions: {| PassengerId: int; Survived: int |} seq) =\n",
    "    let actual =\n",
    "        test'\n",
    "        |> Frame.getCol \"Survived\"\n",
    "        |> Series.values\n",
    "        |> Seq.map (int: float -> int)\n",
    "\n",
    "    let correctCount =\n",
    "        predictions\n",
    "        |> Seq.map (fun p -> p.Survived)\n",
    "        |> Seq.zip actual\n",
    "        |> Seq.filter (fun (pred, act) -> pred = act)\n",
    "        |> Seq.length\n",
    "    \n",
    "    float correctCount / float (Seq.length actual)"
   ]
  },
  {
   "cell_type": "markdown",
   "metadata": {},
   "source": [
    "kaggle への提出用の csv ファイルを作成する関数を定義します．\n"
   ]
  },
  {
   "cell_type": "code",
   "execution_count": null,
   "metadata": {
    "dotnet_interactive": {
     "language": "fsharp"
    }
   },
   "outputs": [],
   "source": [
    "// Export csv\n",
    "let export (fileName: string) (predictions: {| PassengerId: int; Survived: int |} seq) =\n",
    "    let header = \"PassengerId,Survived\\n\"\n",
    "    let body =\n",
    "        predictions\n",
    "        |> Seq.map (fun p -> sprintf \"%d,%d\" p.PassengerId p.Survived)\n",
    "        |> String.concat \"\\n\"\n",
    "    \n",
    "    let out = header + body\n",
    "    File.WriteAllText (__SOURCE_DIRECTORY__ + \"/../submission/titanic/\" + fileName + \".csv\", out)"
   ]
  },
  {
   "cell_type": "markdown",
   "metadata": {},
   "source": [
    "以上の関数を，ロジスティック回帰とランダムフォレストのそれぞれについて実行します．\n"
   ]
  },
  {
   "cell_type": "code",
   "execution_count": null,
   "metadata": {
    "dotnet_interactive": {
     "language": "fsharp"
    }
   },
   "outputs": [
    {
     "name": "stdout",
     "output_type": "stream",
     "text": [
      "Decider: MLR\r\n",
      "PassengerId: 892, Survived: 0\r\n",
      "PassengerId: 893, Survived: 0\r\n",
      "PassengerId: 894, Survived: 0\r\n",
      "PassengerId: 895, Survived: 0\r\n",
      "PassengerId: 896, Survived: 1\r\n",
      "PassengerId: 897, Survived: 0\r\n",
      "PassengerId: 898, Survived: 1\r\n",
      "PassengerId: 899, Survived: 0\r\n",
      "PassengerId: 900, Survived: 1\r\n",
      "PassengerId: 901, Survived: 0\r\n",
      "...\r\n",
      "Decider: RF\r\n",
      "PassengerId: 892, Survived: 0\r\n",
      "PassengerId: 893, Survived: 0\r\n",
      "PassengerId: 894, Survived: 0\r\n",
      "PassengerId: 895, Survived: 0\r\n",
      "PassengerId: 896, Survived: 1\r\n",
      "PassengerId: 897, Survived: 0\r\n",
      "PassengerId: 898, Survived: 1\r\n",
      "PassengerId: 899, Survived: 0\r\n",
      "PassengerId: 900, Survived: 1\r\n",
      "PassengerId: 901, Survived: 0\r\n",
      "...\r\n"
     ]
    }
   ],
   "source": [
    "deciders |> Array.iter (fun (name, decide) ->\n",
    "    printfn \"Decider: %s\" name\n",
    "\n",
    "    let predictions = predictions decide\n",
    "\n",
    "    predictions\n",
    "    |> Seq.take 10\n",
    "    |> Seq.iter (fun p -> printfn \"PassengerId: %d, Survived: %d\" p.PassengerId p.Survived)\n",
    "\n",
    "    printfn \"...\"\n",
    "\n",
    "    if test'.ColumnKeys |> Seq.contains \"Survived\" then\n",
    "        predictions |> accuracy |> printfn \"Accuracy: %f\"\n",
    "    \n",
    "    predictions |> export (name + \"-submission\")\n",
    ")"
   ]
  },
  {
   "cell_type": "markdown",
   "metadata": {},
   "source": [
    "こちらで得られた予測結果では，多変量ロジスティック回帰分析の正答率は 0.76794，ランダムフォレストの正答率は 0.77511 となりました．\n",
    "\n",
    "なお，性別のみを判断基準にした場合の正答率は 0.76555 となるようです．今回は特徴了エンジニアリングなどを特に行っていませんが，データの前処理の際にグルーピングなどの処理を挿入すればさらに精度が向上するものと思われます．\n"
   ]
  }
 ],
 "metadata": {
  "kernelspec": {
   "display_name": ".NET (C#)",
   "language": "C#",
   "name": ".net-csharp"
  },
  "polyglot_notebook": {
   "kernelInfo": {
    "defaultKernelName": "csharp",
    "items": [
     {
      "aliases": [
       "c#",
       "C#"
      ],
      "languageName": "C#",
      "name": "csharp"
     },
     {
      "aliases": [
       "f#",
       "F#"
      ],
      "languageName": "F#",
      "name": "fsharp"
     },
     {
      "aliases": [
       "frontend"
      ],
      "languageName": null,
      "name": "vscode"
     },
     {
      "aliases": [],
      "languageName": "KQL",
      "name": "kql"
     }
    ]
   }
  }
 },
 "nbformat": 4,
 "nbformat_minor": 2
}
